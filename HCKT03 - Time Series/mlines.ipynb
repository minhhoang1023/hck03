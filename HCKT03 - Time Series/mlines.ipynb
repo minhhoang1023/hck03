{
 "cells": [
  {
   "cell_type": "code",
   "execution_count": 1,
   "metadata": {},
   "outputs": [],
   "source": [
    "import pandas as pd\n",
    "import utils as utl\n",
    "import math\n",
    "from sklearn.ensemble import GradientBoostingRegressor\n",
    "from sklearn.metrics import mean_absolute_error\n",
    "import numpy as np"
   ]
  },
  {
   "cell_type": "code",
   "execution_count": 2,
   "metadata": {},
   "outputs": [],
   "source": [
    "def build_some_features(df_, num_periods_ahead, num_periods_lagged=1, num_periods_diffed=0, rolling=[]): \n",
    "    \"\"\"\n",
    "    Builds some features by calculating differences between periods  \n",
    "    \"\"\"\n",
    "    # make a copy \n",
    "    df_ = df_.copy()\n",
    "    \n",
    "    # for a few values, get the lags  \n",
    "    for i in range(1, num_periods_lagged+1):\n",
    "        # make a new feature, with the lags in the observed values column\n",
    "        df_['lagged_%s' % str(i)] = df_['value'].shift(i)\n",
    "        \n",
    "    # for a few values, get the diffs  \n",
    "    for i in range(1, num_periods_diffed+1):\n",
    "        # make a new feature, with the lags in the observed values column\n",
    "        df_['diff_%s' % str(i)] = df_['value'].diff(i)\n",
    "    \n",
    "    for stat in rolling:\n",
    "        df_['rolling_%s'%str(stat)] = df_['value'].rolling('1D').aggregate(stat)\n",
    "        \n",
    "    df_['day_of_week'] = df_.index.weekday\n",
    "    df_['month'] = df_.index.month\n",
    "    df_['hour'] = df_.index.hour\n",
    "\n",
    "    df_['sin_weekday'] = np.sin(2*np.pi*df_.index.weekday/7)\n",
    "    df_['cos_weekday'] = np.sin(2*np.pi*df_.index.weekday/7)\n",
    "\n",
    "    df_['sin_month'] = np.sin(2*np.pi*df_.index.month/12)\n",
    "    df_['cos_month'] = np.sin(2*np.pi*df_.index.month/12)\n",
    "    df_['sin_hour'] = np.sin(2*np.pi*df_.index.hour/24)\n",
    "    df_['cos_hour'] = np.sin(2*np.pi*df_.index.hour/24)\n",
    "\n",
    "    df_ = df_.drop(columns=[\"day_of_week\", \"month\", \"hour\"])\n",
    "    \n",
    "    \n",
    "    return df_"
   ]
  },
  {
   "cell_type": "code",
   "execution_count": 3,
   "metadata": {},
   "outputs": [],
   "source": [
    "df = pd.read_csv('data/data.csv')"
   ]
  },
  {
   "cell_type": "code",
   "execution_count": 4,
   "metadata": {},
   "outputs": [],
   "source": [
    "df[\"date\"] = df.date.apply(pd.to_datetime)"
   ]
  },
  {
   "cell_type": "code",
   "execution_count": 5,
   "metadata": {},
   "outputs": [],
   "source": [
    "df = df.set_index('date')\n",
    "df = df.sort_index()"
   ]
  },
  {
   "cell_type": "code",
   "execution_count": 6,
   "metadata": {},
   "outputs": [],
   "source": [
    "df = df.dropna()"
   ]
  },
  {
   "cell_type": "code",
   "execution_count": 7,
   "metadata": {},
   "outputs": [],
   "source": [
    "df_area1 = df[df.variable==\"area_1\"].drop(columns=\"variable\")\n",
    "df_area2 = df[df.variable==\"area_2\"].drop(columns=\"variable\")\n",
    "df_area3 = df[df.variable==\"area_3\"].drop(columns=\"variable\")"
   ]
  },
  {
   "cell_type": "code",
   "execution_count": 8,
   "metadata": {},
   "outputs": [],
   "source": [
    "df_area1 = df_area1.resample(\"h\").mean()\n",
    "df_area2 = df_area2.resample(\"h\").mean()\n",
    "df_area3 = df_area3.resample(\"h\").mean()"
   ]
  },
  {
   "cell_type": "code",
   "execution_count": 9,
   "metadata": {},
   "outputs": [],
   "source": [
    "df_area1 = (df_area1.ffill()+ df_area1.bfill())/2\n",
    "df_area2 = (df_area2.ffill()+ df_area2.bfill())/2\n",
    "df_area3 = (df_area3.ffill()+ df_area3.bfill())/2"
   ]
  },
  {
   "cell_type": "code",
   "execution_count": 10,
   "metadata": {},
   "outputs": [],
   "source": [
    "area_1 = df_area1.sort_index()\n",
    "area_2 = df_area2.sort_index()\n",
    "area_3 = df_area3.sort_index()"
   ]
  },
  {
   "cell_type": "code",
   "execution_count": 11,
   "metadata": {},
   "outputs": [],
   "source": [
    "train_1 = area_1[:-168]\n",
    "train_2 = area_2[:-168]\n",
    "train_3 = area_3[:-168]\n",
    "\n",
    "test_1 = area_1[-168:]\n",
    "test_2 = area_2[-168:]\n",
    "test_3 = area_3[-168:]"
   ]
  },
  {
   "cell_type": "code",
   "execution_count": null,
   "metadata": {},
   "outputs": [],
   "source": [
    "predictions = utl.predict_n_periods(series_=train_1, \n",
    "                                    n_periods=168, \n",
    "                      model=GradientBoostingRegressor(random_state=1), \n",
    "                      num_periods_lagged=6,\n",
    "                      num_periods_diffed=1,\n",
    "                      weekday=True,\n",
    "                      month=False,\n",
    "                                   \n",
    "                      rolling=[],\n",
    "                      hour=False\n",
    "                      )"
   ]
  },
  {
   "cell_type": "code",
   "execution_count": null,
   "metadata": {},
   "outputs": [],
   "source": [
    "mean_absolute_error(predictions, test_1) #1.49831455990887"
   ]
  },
  {
   "cell_type": "code",
   "execution_count": null,
   "metadata": {},
   "outputs": [],
   "source": []
  }
 ],
 "metadata": {
  "kernelspec": {
   "display_name": "Python 3",
   "language": "python",
   "name": "python3"
  },
  "language_info": {
   "codemirror_mode": {
    "name": "ipython",
    "version": 3
   },
   "file_extension": ".py",
   "mimetype": "text/x-python",
   "name": "python",
   "nbconvert_exporter": "python",
   "pygments_lexer": "ipython3",
   "version": "3.7.3"
  }
 },
 "nbformat": 4,
 "nbformat_minor": 2
}
