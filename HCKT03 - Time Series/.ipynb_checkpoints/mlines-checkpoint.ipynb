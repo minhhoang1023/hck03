{
 "cells": [
  {
   "cell_type": "code",
   "execution_count": 17,
   "metadata": {},
   "outputs": [],
   "source": [
    "import pandas as pd\n",
    "import utils as utl\n",
    "import math\n",
    "from sklearn.ensemble import GradientBoostingRegressor\n",
    "from sklearn.metrics import mean_absolute_error\n",
    "import numpy as np"
   ]
  },
  {
   "cell_type": "code",
   "execution_count": 2,
   "metadata": {},
   "outputs": [],
   "source": [
    "df = pd.read_csv('data/data.csv')"
   ]
  },
  {
   "cell_type": "code",
   "execution_count": 3,
   "metadata": {},
   "outputs": [],
   "source": [
    "df[\"date\"] = df.date.apply(pd.to_datetime)"
   ]
  },
  {
   "cell_type": "code",
   "execution_count": 4,
   "metadata": {},
   "outputs": [],
   "source": [
    "df = df.set_index('date')\n",
    "df = df.sort_index()"
   ]
  },
  {
   "cell_type": "code",
   "execution_count": 5,
   "metadata": {},
   "outputs": [],
   "source": [
    "df = df.dropna()"
   ]
  },
  {
   "cell_type": "code",
   "execution_count": 6,
   "metadata": {},
   "outputs": [],
   "source": [
    "df_area1 = df[df.variable==\"area_1\"].drop(columns=\"variable\")\n",
    "df_area2 = df[df.variable==\"area_2\"].drop(columns=\"variable\")\n",
    "df_area3 = df[df.variable==\"area_3\"].drop(columns=\"variable\")"
   ]
  },
  {
   "cell_type": "code",
   "execution_count": 7,
   "metadata": {},
   "outputs": [],
   "source": [
    "df_area1 = df_area1.resample(\"h\").mean()\n",
    "df_area2 = df_area2.resample(\"h\").mean()\n",
    "df_area3 = df_area3.resample(\"h\").mean()"
   ]
  },
  {
   "cell_type": "code",
   "execution_count": 8,
   "metadata": {},
   "outputs": [],
   "source": [
    "df_area1 = (df_area1.ffill()+ df_area1.bfill())/2\n",
    "df_area2 = (df_area2.ffill()+ df_area2.bfill())/2\n",
    "df_area3 = (df_area3.ffill()+ df_area3.bfill())/2"
   ]
  },
  {
   "cell_type": "code",
   "execution_count": 9,
   "metadata": {},
   "outputs": [],
   "source": [
    "area_1 = df_area1.sort_index()\n",
    "area_2 = df_area2.sort_index()\n",
    "area_3 = df_area3.sort_index()"
   ]
  },
  {
   "cell_type": "code",
   "execution_count": 18,
   "metadata": {},
   "outputs": [
    {
     "data": {
      "text/html": [
       "<div>\n",
       "<style scoped>\n",
       "    .dataframe tbody tr th:only-of-type {\n",
       "        vertical-align: middle;\n",
       "    }\n",
       "\n",
       "    .dataframe tbody tr th {\n",
       "        vertical-align: top;\n",
       "    }\n",
       "\n",
       "    .dataframe thead th {\n",
       "        text-align: right;\n",
       "    }\n",
       "</style>\n",
       "<table border=\"1\" class=\"dataframe\">\n",
       "  <thead>\n",
       "    <tr style=\"text-align: right;\">\n",
       "      <th></th>\n",
       "      <th>value</th>\n",
       "      <th>day_of_week</th>\n",
       "      <th>month</th>\n",
       "      <th>hour</th>\n",
       "      <th>sin_weekday</th>\n",
       "      <th>cos_weekday</th>\n",
       "      <th>sin_month</th>\n",
       "      <th>cos_month</th>\n",
       "      <th>sin_hour</th>\n",
       "      <th>cos_hour</th>\n",
       "    </tr>\n",
       "    <tr>\n",
       "      <th>date</th>\n",
       "      <th></th>\n",
       "      <th></th>\n",
       "      <th></th>\n",
       "      <th></th>\n",
       "      <th></th>\n",
       "      <th></th>\n",
       "      <th></th>\n",
       "      <th></th>\n",
       "      <th></th>\n",
       "      <th></th>\n",
       "    </tr>\n",
       "  </thead>\n",
       "  <tbody>\n",
       "    <tr>\n",
       "      <th>2004-01-01 00:00:00</th>\n",
       "      <td>16.853</td>\n",
       "      <td>3</td>\n",
       "      <td>1</td>\n",
       "      <td>0</td>\n",
       "      <td>0.433884</td>\n",
       "      <td>0.433884</td>\n",
       "      <td>0.5</td>\n",
       "      <td>0.5</td>\n",
       "      <td>0.000000</td>\n",
       "      <td>0.000000</td>\n",
       "    </tr>\n",
       "    <tr>\n",
       "      <th>2004-01-01 01:00:00</th>\n",
       "      <td>16.450</td>\n",
       "      <td>3</td>\n",
       "      <td>1</td>\n",
       "      <td>1</td>\n",
       "      <td>0.433884</td>\n",
       "      <td>0.433884</td>\n",
       "      <td>0.5</td>\n",
       "      <td>0.5</td>\n",
       "      <td>0.258819</td>\n",
       "      <td>0.258819</td>\n",
       "    </tr>\n",
       "    <tr>\n",
       "      <th>2004-01-01 02:00:00</th>\n",
       "      <td>16.517</td>\n",
       "      <td>3</td>\n",
       "      <td>1</td>\n",
       "      <td>2</td>\n",
       "      <td>0.433884</td>\n",
       "      <td>0.433884</td>\n",
       "      <td>0.5</td>\n",
       "      <td>0.5</td>\n",
       "      <td>0.500000</td>\n",
       "      <td>0.500000</td>\n",
       "    </tr>\n",
       "    <tr>\n",
       "      <th>2004-01-01 03:00:00</th>\n",
       "      <td>16.873</td>\n",
       "      <td>3</td>\n",
       "      <td>1</td>\n",
       "      <td>3</td>\n",
       "      <td>0.433884</td>\n",
       "      <td>0.433884</td>\n",
       "      <td>0.5</td>\n",
       "      <td>0.5</td>\n",
       "      <td>0.707107</td>\n",
       "      <td>0.707107</td>\n",
       "    </tr>\n",
       "    <tr>\n",
       "      <th>2004-01-01 04:00:00</th>\n",
       "      <td>17.064</td>\n",
       "      <td>3</td>\n",
       "      <td>1</td>\n",
       "      <td>4</td>\n",
       "      <td>0.433884</td>\n",
       "      <td>0.433884</td>\n",
       "      <td>0.5</td>\n",
       "      <td>0.5</td>\n",
       "      <td>0.866025</td>\n",
       "      <td>0.866025</td>\n",
       "    </tr>\n",
       "  </tbody>\n",
       "</table>\n",
       "</div>"
      ],
      "text/plain": [
       "                      value  day_of_week  month  hour  sin_weekday  \\\n",
       "date                                                                 \n",
       "2004-01-01 00:00:00  16.853            3      1     0     0.433884   \n",
       "2004-01-01 01:00:00  16.450            3      1     1     0.433884   \n",
       "2004-01-01 02:00:00  16.517            3      1     2     0.433884   \n",
       "2004-01-01 03:00:00  16.873            3      1     3     0.433884   \n",
       "2004-01-01 04:00:00  17.064            3      1     4     0.433884   \n",
       "\n",
       "                     cos_weekday  sin_month  cos_month  sin_hour  cos_hour  \n",
       "date                                                                        \n",
       "2004-01-01 00:00:00     0.433884        0.5        0.5  0.000000  0.000000  \n",
       "2004-01-01 01:00:00     0.433884        0.5        0.5  0.258819  0.258819  \n",
       "2004-01-01 02:00:00     0.433884        0.5        0.5  0.500000  0.500000  \n",
       "2004-01-01 03:00:00     0.433884        0.5        0.5  0.707107  0.707107  \n",
       "2004-01-01 04:00:00     0.433884        0.5        0.5  0.866025  0.866025  "
      ]
     },
     "execution_count": 18,
     "metadata": {},
     "output_type": "execute_result"
    }
   ],
   "source": [
    "area_1['day_of_week'] = area_1.index.weekday\n",
    "area_1['month'] = area_1.index.month\n",
    "area_1['hour'] = area_1.index.hour\n",
    "\n",
    "area_1['sin_weekday'] = np.sin(2*np.pi*area_1.index.weekday/7)\n",
    "area_1['cos_weekday'] = np.sin(2*np.pi*area_1.index.weekday/7)\n",
    "        \n",
    "area_1['sin_month'] = np.sin(2*np.pi*area_1.index.month/12)\n",
    "area_1['cos_month'] = np.sin(2*np.pi*area_1.index.month/12)\n",
    "area_1['sin_hour'] = np.sin(2*np.pi*area_1.index.hour/24)\n",
    "area_1['cos_hour'] = np.sin(2*np.pi*area_1.index.hour/24)\n",
    "\n",
    "area_1.head()"
   ]
  },
  {
   "cell_type": "code",
   "execution_count": null,
   "metadata": {},
   "outputs": [],
   "source": [
    "train_1 = area_1[:-168]\n",
    "train_2 = area_2[:-168]\n",
    "train_3 = area_3[:-168]\n",
    "\n",
    "test_1 = area_1[-168:]\n",
    "test_2 = area_2[-168:]\n",
    "test_3 = area_3[-168:]"
   ]
  },
  {
   "cell_type": "code",
   "execution_count": 14,
   "metadata": {},
   "outputs": [],
   "source": [
    "predictions = utl.predict_n_periods(series_=train_1, \n",
    "                                    n_periods=168, \n",
    "                      model=GradientBoostingRegressor(random_state=1), \n",
    "                      num_periods_lagged=6,\n",
    "                      num_periods_diffed=3, #1\n",
    "                      weekday=True,\n",
    "                      month=True,\n",
    "                      rolling=[],\n",
    "                      monthday=False\n",
    "                      )"
   ]
  },
  {
   "cell_type": "code",
   "execution_count": 15,
   "metadata": {},
   "outputs": [
    {
     "data": {
      "text/plain": [
       "1.6061737685276851"
      ]
     },
     "execution_count": 15,
     "metadata": {},
     "output_type": "execute_result"
    }
   ],
   "source": [
    "mean_absolute_error(predictions, test_1) #1.49831455990887"
   ]
  },
  {
   "cell_type": "code",
   "execution_count": 13,
   "metadata": {},
   "outputs": [],
   "source": [
    "train_1 = area_1[:-168]\n",
    "train_2 = area_2[:-168]\n",
    "train_3 = area_3[:-168]\n",
    "\n",
    "test_1 = area_1[-168:]\n",
    "test_2 = area_2[-168:]\n",
    "test_3 = area_3[-168:]"
   ]
  }
 ],
 "metadata": {
  "kernelspec": {
   "display_name": "Python 3",
   "language": "python",
   "name": "python3"
  },
  "language_info": {
   "codemirror_mode": {
    "name": "ipython",
    "version": 3
   },
   "file_extension": ".py",
   "mimetype": "text/x-python",
   "name": "python",
   "nbconvert_exporter": "python",
   "pygments_lexer": "ipython3",
   "version": "3.7.3"
  }
 },
 "nbformat": 4,
 "nbformat_minor": 2
}
