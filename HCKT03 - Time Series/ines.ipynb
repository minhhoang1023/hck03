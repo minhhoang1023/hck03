{
 "cells": [
  {
   "cell_type": "code",
   "execution_count": 1,
   "metadata": {},
   "outputs": [
    {
     "name": "stderr",
     "output_type": "stream",
     "text": [
      "/home/ines/Downloads/tion/envs/hack3/lib/python3.7/site-packages/statsmodels/compat/pandas.py:23: FutureWarning: The Panel class is removed from pandas. Accessing it from the top-level namespace will also be removed in the next version\n",
      "  data_klasses = (pandas.Series, pandas.DataFrame, pandas.Panel)\n"
     ]
    }
   ],
   "source": [
    "import pandas as pd\n",
    "from sklearn.metrics import mean_absolute_error\n",
    "import statsmodels.api as sm"
   ]
  },
  {
   "cell_type": "code",
   "execution_count": 2,
   "metadata": {},
   "outputs": [],
   "source": [
    "df = pd.read_csv(\"data/data.csv\")"
   ]
  },
  {
   "cell_type": "code",
   "execution_count": 3,
   "metadata": {},
   "outputs": [
    {
     "data": {
      "text/html": [
       "<div>\n",
       "<style scoped>\n",
       "    .dataframe tbody tr th:only-of-type {\n",
       "        vertical-align: middle;\n",
       "    }\n",
       "\n",
       "    .dataframe tbody tr th {\n",
       "        vertical-align: top;\n",
       "    }\n",
       "\n",
       "    .dataframe thead th {\n",
       "        text-align: right;\n",
       "    }\n",
       "</style>\n",
       "<table border=\"1\" class=\"dataframe\">\n",
       "  <thead>\n",
       "    <tr style=\"text-align: right;\">\n",
       "      <th></th>\n",
       "      <th>date</th>\n",
       "      <th>variable</th>\n",
       "      <th>value</th>\n",
       "    </tr>\n",
       "  </thead>\n",
       "  <tbody>\n",
       "    <tr>\n",
       "      <th>0</th>\n",
       "      <td>2004-01-01 00:00:00</td>\n",
       "      <td>area_1</td>\n",
       "      <td>16.853</td>\n",
       "    </tr>\n",
       "    <tr>\n",
       "      <th>1</th>\n",
       "      <td>2004-01-01 01:00:00</td>\n",
       "      <td>area_1</td>\n",
       "      <td>16.450</td>\n",
       "    </tr>\n",
       "    <tr>\n",
       "      <th>2</th>\n",
       "      <td>2004-01-01 02:00:00</td>\n",
       "      <td>area_1</td>\n",
       "      <td>16.517</td>\n",
       "    </tr>\n",
       "    <tr>\n",
       "      <th>3</th>\n",
       "      <td>2004-01-01 03:00:00</td>\n",
       "      <td>area_1</td>\n",
       "      <td>16.873</td>\n",
       "    </tr>\n",
       "    <tr>\n",
       "      <th>4</th>\n",
       "      <td>2004-01-01 04:00:00</td>\n",
       "      <td>area_1</td>\n",
       "      <td>17.064</td>\n",
       "    </tr>\n",
       "  </tbody>\n",
       "</table>\n",
       "</div>"
      ],
      "text/plain": [
       "                  date variable   value\n",
       "0  2004-01-01 00:00:00   area_1  16.853\n",
       "1  2004-01-01 01:00:00   area_1  16.450\n",
       "2  2004-01-01 02:00:00   area_1  16.517\n",
       "3  2004-01-01 03:00:00   area_1  16.873\n",
       "4  2004-01-01 04:00:00   area_1  17.064"
      ]
     },
     "execution_count": 3,
     "metadata": {},
     "output_type": "execute_result"
    }
   ],
   "source": [
    "df.head()"
   ]
  },
  {
   "cell_type": "code",
   "execution_count": 4,
   "metadata": {},
   "outputs": [],
   "source": [
    "df[\"date\"] = df.date.apply(pd.to_datetime)"
   ]
  },
  {
   "cell_type": "code",
   "execution_count": 5,
   "metadata": {},
   "outputs": [],
   "source": [
    "df = df.set_index('date')\n",
    "df = df.sort_index()"
   ]
  },
  {
   "cell_type": "code",
   "execution_count": 6,
   "metadata": {},
   "outputs": [
    {
     "data": {
      "text/html": [
       "<div>\n",
       "<style scoped>\n",
       "    .dataframe tbody tr th:only-of-type {\n",
       "        vertical-align: middle;\n",
       "    }\n",
       "\n",
       "    .dataframe tbody tr th {\n",
       "        vertical-align: top;\n",
       "    }\n",
       "\n",
       "    .dataframe thead th {\n",
       "        text-align: right;\n",
       "    }\n",
       "</style>\n",
       "<table border=\"1\" class=\"dataframe\">\n",
       "  <thead>\n",
       "    <tr style=\"text-align: right;\">\n",
       "      <th></th>\n",
       "      <th>variable</th>\n",
       "      <th>value</th>\n",
       "    </tr>\n",
       "    <tr>\n",
       "      <th>date</th>\n",
       "      <th></th>\n",
       "      <th></th>\n",
       "    </tr>\n",
       "  </thead>\n",
       "  <tbody>\n",
       "    <tr>\n",
       "      <th>2004-01-01 00:00:00</th>\n",
       "      <td>area_1</td>\n",
       "      <td>16.853</td>\n",
       "    </tr>\n",
       "    <tr>\n",
       "      <th>2004-01-01 00:00:00</th>\n",
       "      <td>area_2</td>\n",
       "      <td>126.259</td>\n",
       "    </tr>\n",
       "    <tr>\n",
       "      <th>2004-01-01 00:00:00</th>\n",
       "      <td>area_3</td>\n",
       "      <td>79.830</td>\n",
       "    </tr>\n",
       "    <tr>\n",
       "      <th>2004-01-01 01:00:00</th>\n",
       "      <td>area_1</td>\n",
       "      <td>16.450</td>\n",
       "    </tr>\n",
       "    <tr>\n",
       "      <th>2004-01-01 01:00:00</th>\n",
       "      <td>area_2</td>\n",
       "      <td>123.313</td>\n",
       "    </tr>\n",
       "  </tbody>\n",
       "</table>\n",
       "</div>"
      ],
      "text/plain": [
       "                    variable    value\n",
       "date                                 \n",
       "2004-01-01 00:00:00   area_1   16.853\n",
       "2004-01-01 00:00:00   area_2  126.259\n",
       "2004-01-01 00:00:00   area_3   79.830\n",
       "2004-01-01 01:00:00   area_1   16.450\n",
       "2004-01-01 01:00:00   area_2  123.313"
      ]
     },
     "execution_count": 6,
     "metadata": {},
     "output_type": "execute_result"
    }
   ],
   "source": [
    "df.head()"
   ]
  },
  {
   "cell_type": "code",
   "execution_count": 7,
   "metadata": {},
   "outputs": [],
   "source": [
    "df = df.dropna()"
   ]
  },
  {
   "cell_type": "code",
   "execution_count": 8,
   "metadata": {},
   "outputs": [
    {
     "data": {
      "text/plain": [
       "((12024, 1), (14976, 1), (16656, 1))"
      ]
     },
     "execution_count": 8,
     "metadata": {},
     "output_type": "execute_result"
    }
   ],
   "source": [
    "df_area1 = df[df.variable==\"area_1\"].drop(columns=\"variable\")\n",
    "df_area2 = df[df.variable==\"area_2\"].drop(columns=\"variable\")\n",
    "df_area3 = df[df.variable==\"area_3\"].drop(columns=\"variable\")\n",
    "df_area1.shape, df_area2.shape, df_area3.shape"
   ]
  },
  {
   "cell_type": "code",
   "execution_count": 9,
   "metadata": {},
   "outputs": [
    {
     "data": {
      "text/plain": [
       "((12192, 1), (15480, 1), (17160, 1))"
      ]
     },
     "execution_count": 9,
     "metadata": {},
     "output_type": "execute_result"
    }
   ],
   "source": [
    "df_area1 = df_area1.resample(\"h\").mean()\n",
    "df_area2 = df_area2.resample(\"h\").mean()\n",
    "df_area3 = df_area3.resample(\"h\").mean()\n",
    "df_area1.shape, df_area2.shape, df_area3.shape"
   ]
  },
  {
   "cell_type": "code",
   "execution_count": 10,
   "metadata": {},
   "outputs": [
    {
     "data": {
      "text/plain": [
       "0       (2005, 3, 6)\n",
       "24      (2005, 3, 7)\n",
       "48      (2005, 3, 8)\n",
       "72      (2005, 3, 9)\n",
       "96     (2005, 3, 10)\n",
       "120    (2005, 3, 11)\n",
       "144    (2005, 3, 12)\n",
       "Name: date, dtype: object"
      ]
     },
     "execution_count": 10,
     "metadata": {},
     "output_type": "execute_result"
    }
   ],
   "source": [
    "df_area1[df_area1[\"value\"].isnull()==True].reset_index().date.apply(lambda x: (x.year, x.month, x.day)).drop_duplicates()"
   ]
  },
  {
   "cell_type": "code",
   "execution_count": 11,
   "metadata": {},
   "outputs": [
    {
     "data": {
      "text/plain": [
       "0       (2005, 3, 6)\n",
       "24      (2005, 3, 7)\n",
       "48      (2005, 3, 8)\n",
       "72      (2005, 3, 9)\n",
       "96     (2005, 3, 10)\n",
       "120    (2005, 3, 11)\n",
       "144    (2005, 3, 12)\n",
       "168    (2005, 6, 20)\n",
       "192    (2005, 6, 21)\n",
       "216    (2005, 6, 22)\n",
       "240    (2005, 6, 23)\n",
       "264    (2005, 6, 24)\n",
       "288    (2005, 6, 25)\n",
       "312    (2005, 6, 26)\n",
       "336    (2005, 9, 10)\n",
       "360    (2005, 9, 11)\n",
       "384    (2005, 9, 12)\n",
       "408    (2005, 9, 13)\n",
       "432    (2005, 9, 14)\n",
       "456    (2005, 9, 15)\n",
       "480    (2005, 9, 16)\n",
       "Name: date, dtype: object"
      ]
     },
     "execution_count": 11,
     "metadata": {},
     "output_type": "execute_result"
    }
   ],
   "source": [
    "df_area2[df_area2[\"value\"].isnull()==True].reset_index().date.apply(lambda x: (x.year, x.month, x.day)).drop_duplicates()"
   ]
  },
  {
   "cell_type": "code",
   "execution_count": 12,
   "metadata": {},
   "outputs": [
    {
     "data": {
      "text/plain": [
       "0       (2005, 3, 6)\n",
       "24      (2005, 3, 7)\n",
       "48      (2005, 3, 8)\n",
       "72      (2005, 3, 9)\n",
       "96     (2005, 3, 10)\n",
       "120    (2005, 3, 11)\n",
       "144    (2005, 3, 12)\n",
       "168    (2005, 6, 20)\n",
       "192    (2005, 6, 21)\n",
       "216    (2005, 6, 22)\n",
       "240    (2005, 6, 23)\n",
       "264    (2005, 6, 24)\n",
       "288    (2005, 6, 25)\n",
       "312    (2005, 6, 26)\n",
       "336    (2005, 9, 10)\n",
       "360    (2005, 9, 11)\n",
       "384    (2005, 9, 12)\n",
       "408    (2005, 9, 13)\n",
       "432    (2005, 9, 14)\n",
       "456    (2005, 9, 15)\n",
       "480    (2005, 9, 16)\n",
       "Name: date, dtype: object"
      ]
     },
     "execution_count": 12,
     "metadata": {},
     "output_type": "execute_result"
    }
   ],
   "source": [
    "df_area3[df_area3[\"value\"].isnull()==True].reset_index().date.apply(lambda x: (x.year, x.month, x.day)).drop_duplicates()"
   ]
  },
  {
   "cell_type": "code",
   "execution_count": 13,
   "metadata": {},
   "outputs": [],
   "source": [
    "df_area1_ = df_area1.fillna(0)"
   ]
  },
  {
   "cell_type": "code",
   "execution_count": 14,
   "metadata": {},
   "outputs": [
    {
     "data": {
      "text/plain": [
       "<matplotlib.axes._subplots.AxesSubplot at 0x7fa2c1e542b0>"
      ]
     },
     "execution_count": 14,
     "metadata": {},
     "output_type": "execute_result"
    }
   ],
   "source": [
    "df_area1_.plot()"
   ]
  },
  {
   "cell_type": "code",
   "execution_count": 15,
   "metadata": {},
   "outputs": [],
   "source": [
    "df_area1 = (df_area1.ffill()+ df_area1.bfill())/2"
   ]
  },
  {
   "cell_type": "code",
   "execution_count": 16,
   "metadata": {},
   "outputs": [
    {
     "data": {
      "text/plain": [
       "<matplotlib.axes._subplots.AxesSubplot at 0x7fa2c1a76438>"
      ]
     },
     "execution_count": 16,
     "metadata": {},
     "output_type": "execute_result"
    },
    {
     "data": {
      "image/png": "[encoded data removed]",
      "text/plain": [
       "<Figure size 432x288 with 1 Axes>"
      ]
     },
     "metadata": {
      "needs_background": "light"
     },
     "output_type": "display_data"
    }
   ],
   "source": [
    "df_area1.plot()"
   ]
  },
  {
   "cell_type": "code",
   "execution_count": 17,
   "metadata": {},
   "outputs": [],
   "source": [
    "df_area2_ = df_area2.fillna(0)"
   ]
  },
  {
   "cell_type": "code",
   "execution_count": 18,
   "metadata": {},
   "outputs": [
    {
     "data": {
      "text/plain": [
       "<matplotlib.axes._subplots.AxesSubplot at 0x7fa2c1961208>"
      ]
     },
     "execution_count": 18,
     "metadata": {},
     "output_type": "execute_result"
    },
    {
     "data": {
      "image/png": "[encoded data removed]",
      "text/plain": [
       "<Figure size 432x288 with 1 Axes>"
      ]
     },
     "metadata": {
      "needs_background": "light"
     },
     "output_type": "display_data"
    }
   ],
   "source": [
    "df_area2_.plot()"
   ]
  },
  {
   "cell_type": "code",
   "execution_count": 19,
   "metadata": {},
   "outputs": [],
   "source": [
    "df_area2 = (df_area2.ffill()+ df_area2.bfill())/2"
   ]
  },
  {
   "cell_type": "code",
   "execution_count": 20,
   "metadata": {},
   "outputs": [
    {
     "data": {
      "text/plain": [
       "<matplotlib.axes._subplots.AxesSubplot at 0x7fa2c17787f0>"
      ]
     },
     "execution_count": 20,
     "metadata": {},
     "output_type": "execute_result"
    },
    {
     "data": {
      "image/png": "[encoded data removed]",
      "text/plain": [
       "<Figure size 432x288 with 1 Axes>"
      ]
     },
     "metadata": {
      "needs_background": "light"
     },
     "output_type": "display_data"
    }
   ],
   "source": [
    "df_area2.plot()"
   ]
  },
  {
   "cell_type": "code",
   "execution_count": 21,
   "metadata": {},
   "outputs": [],
   "source": [
    "df_area3_ = df_area3.fillna(0)"
   ]
  },
  {
   "cell_type": "code",
   "execution_count": 22,
   "metadata": {},
   "outputs": [
    {
     "data": {
      "text/plain": [
       "<matplotlib.axes._subplots.AxesSubplot at 0x7fa2c1622828>"
      ]
     },
     "execution_count": 22,
     "metadata": {},
     "output_type": "execute_result"
    },
    {
     "data": {
      "image/png": "[encoded data removed]",
      "text/plain": [
       "<Figure size 432x288 with 1 Axes>"
      ]
     },
     "metadata": {
      "needs_background": "light"
     },
     "output_type": "display_data"
    }
   ],
   "source": [
    "df_area3_.plot()"
   ]
  },
  {
   "cell_type": "code",
   "execution_count": 23,
   "metadata": {},
   "outputs": [],
   "source": [
    "df_area3 = (df_area3.ffill()+ df_area3.bfill())/2"
   ]
  },
  {
   "cell_type": "code",
   "execution_count": 24,
   "metadata": {},
   "outputs": [
    {
     "data": {
      "text/plain": [
       "<matplotlib.axes._subplots.AxesSubplot at 0x7fa2c1239d68>"
      ]
     },
     "execution_count": 24,
     "metadata": {},
     "output_type": "execute_result"
    },
    {
     "data": {
      "image/png": "[encoded data removed]",
      "text/plain": [
       "<Figure size 432x288 with 1 Axes>"
      ]
     },
     "metadata": {
      "needs_background": "light"
     },
     "output_type": "display_data"
    }
   ],
   "source": [
    "df_area3.plot()"
   ]
  },
  {
   "cell_type": "code",
   "execution_count": 25,
   "metadata": {},
   "outputs": [],
   "source": [
    "area_1 = df_area1.sort_index()\n",
    "area_2 = df_area2.sort_index()\n",
    "area_3 = df_area3.sort_index()"
   ]
  },
  {
   "cell_type": "code",
   "execution_count": 26,
   "metadata": {},
   "outputs": [],
   "source": [
    "train_1 = area_1[:-168]\n",
    "train_2 = area_2[:-168]\n",
    "train_3 = area_3[:-168]\n",
    "\n",
    "test_1 = area_1[-168:]\n",
    "test_2 = area_2[-168:]\n",
    "test_3 = area_3[-168:]"
   ]
  },
  {
   "cell_type": "code",
   "execution_count": 27,
   "metadata": {},
   "outputs": [],
   "source": [
    "#Area 1\n",
    "mae_1 = sm.tsa.statespace.SARIMAX(train_1,\n",
    "                                  order=(1, 0, 1),\n",
    "                                  seasonal_order=(1, 1, 1, 24))\n",
    "\n",
    "results_1 = mae_1.fit()\n",
    "predictions_mae_1 = results_1.get_forecast(steps=168)"
   ]
  },
  {
   "cell_type": "code",
   "execution_count": 28,
   "metadata": {},
   "outputs": [],
   "source": [
    "#Area 2\n",
    "mae_2 = sm.tsa.statespace.SARIMAX(train_2,\n",
    "                                  order=(1, 0, 1),\n",
    "                                  seasonal_order=(1, 1, 1, 24))\n",
    "\n",
    "results_2 = mae_2.fit()\n",
    "predictions_mae_2 = results_2.get_forecast(steps=168)"
   ]
  },
  {
   "cell_type": "code",
   "execution_count": null,
   "metadata": {},
   "outputs": [],
   "source": [
    "#Area 3\n",
    "mae_3 = sm.tsa.statespace.SARIMAX(train_3,\n",
    "                                  order=(1, 0, 1),\n",
    "                                  seasonal_order=(1, 1, 1, 24))\n",
    "\n",
    "results_3 = mae_3.fit()\n",
    "predictions_mae_3 = results_3.get_forecast(steps=168)"
   ]
  },
  {
   "cell_type": "code",
   "execution_count": null,
   "metadata": {},
   "outputs": [],
   "source": [
    "mae_1 = mean_absolute_error(test_1, predictions_mae_1.predicted_mean)\n",
    "mae_2 = mean_absolute_error(test_2, predictions_mae_2.predicted_mean)\n",
    "mae_3 = mean_absolute_error(test_3, predictions_mae_3.predicted_mean)"
   ]
  },
  {
   "cell_type": "code",
   "execution_count": null,
   "metadata": {},
   "outputs": [],
   "source": [
    "mae_1, mae_2, mae_3 # 93, 44, 14"
   ]
  },
  {
   "cell_type": "code",
   "execution_count": null,
   "metadata": {},
   "outputs": [],
   "source": [
    "#Area 1\n",
    "total_mae_1 = sm.tsa.statespace.SARIMAX(area_1,\n",
    "                                  order=(1, 1, 1),\n",
    "                                  seasonal_order=(1, 1, 1, 24))\n",
    "\n",
    "total_results_1 = total_mae_1.fit()\n",
    "total_predictions_mae_1 = total_results_1.get_forecast(steps=168)"
   ]
  },
  {
   "cell_type": "code",
   "execution_count": null,
   "metadata": {},
   "outputs": [],
   "source": [
    "#Area 2\n",
    "total_mae_2 = sm.tsa.statespace.SARIMAX(area_1,\n",
    "                                  order=(1, 1, 1),\n",
    "                                  seasonal_order=(1, 1, 1, 24))\n",
    "\n",
    "total_results_2 = total_mae_2.fit()\n",
    "total_predictions_mae_2 = total_results_2.get_forecast(steps=168)"
   ]
  },
  {
   "cell_type": "code",
   "execution_count": null,
   "metadata": {},
   "outputs": [],
   "source": [
    "#Area 3\n",
    "total_mae_3 = sm.tsa.statespace.SARIMAX(area_1,\n",
    "                                  order=(1, 1, 1),\n",
    "                                  seasonal_order=(1, 1, 1, 24))\n",
    "\n",
    "total_results_3 = total_mae_3.fit()\n",
    "total_predictions_mae_3 = total_results_3.get_forecast(steps=168)"
   ]
  }
 ],
 "metadata": {
  "kernelspec": {
   "display_name": "Python 3",
   "language": "python",
   "name": "python3"
  },
  "language_info": {
   "codemirror_mode": {
    "name": "ipython",
    "version": 3
   },
   "file_extension": ".py",
   "mimetype": "text/x-python",
   "name": "python",
   "nbconvert_exporter": "python",
   "pygments_lexer": "ipython3",
   "version": "3.7.3"
  }
 },
 "nbformat": 4,
 "nbformat_minor": 2
}
